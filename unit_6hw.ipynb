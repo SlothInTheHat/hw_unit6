{
 "cells": [
  {
   "cell_type": "markdown",
   "metadata": {},
   "source": [
    "# 6.1"
   ]
  },
  {
   "cell_type": "markdown",
   "metadata": {},
   "source": [
    "## Popcorn Hack 1"
   ]
  },
  {
   "cell_type": "code",
   "execution_count": 10,
   "metadata": {
    "vscode": {
     "languageId": "java"
    }
   },
   "outputs": [
    {
     "data": {
      "text/plain": [
       "Sacremento "
      ]
     },
     "execution_count": 10,
     "metadata": {},
     "output_type": "execute_result"
    }
   ],
   "source": [
    "String [] city_array = new String[4];\n",
    "city_array[0] = \"San Diego\";\n",
    "city_array[1] = \"Los Angles\";\n",
    "city_array[2] = \"San Fransisco\";\n",
    "city_array[3] = \"Sacremento \";"
   ]
  },
  {
   "cell_type": "code",
   "execution_count": 11,
   "metadata": {
    "vscode": {
     "languageId": "java"
    }
   },
   "outputs": [
    {
     "name": "stdout",
     "output_type": "stream",
     "text": [
      "San Diego\n"
     ]
    },
    {
     "name": "stdout",
     "output_type": "stream",
     "text": [
      "San Fransisco\n"
     ]
    }
   ],
   "source": [
    "System.out.println(\"Element 1: \" + city_array[0]);\n",
    "System.out.println(\"Element 3: \" + city_array[2]);\n"
   ]
  },
  {
   "cell_type": "code",
   "execution_count": 18,
   "metadata": {
    "vscode": {
     "languageId": "java"
    }
   },
   "outputs": [
    {
     "name": "stdout",
     "output_type": "stream",
     "text": [
      "Swapped: [San Diego, San Fransisco, San Fransisco, San Jose]\n"
     ]
    }
   ],
   "source": [
    "city_array[1] = \"San Fransisco\";\n",
    "city_array[3] = \"San Jose\";\n",
    "System.out.println(\"Swapped: \" + Arrays.toString(city_array));"
   ]
  },
  {
   "cell_type": "code",
   "execution_count": 23,
   "metadata": {
    "vscode": {
     "languageId": "java"
    }
   },
   "outputs": [
    {
     "name": "stdout",
     "output_type": "stream",
     "text": [
      "Length: 4\n"
     ]
    }
   ],
   "source": [
    "System.out.println(\"Length: \" + city_array.length);"
   ]
  },
  {
   "cell_type": "markdown",
   "metadata": {},
   "source": [
    "## Popcorn Hack 2"
   ]
  },
  {
   "cell_type": "code",
   "execution_count": 28,
   "metadata": {
    "vscode": {
     "languageId": "java"
    }
   },
   "outputs": [
    {
     "name": "stdout",
     "output_type": "stream",
     "text": [
      "Int array: 0\n",
      "String array: null\n",
      "Double array: 0.0\n",
      "Boolean array: false\n"
     ]
    }
   ],
   "source": [
    "int[] intArray = new int[3];\n",
    "String[] stringArray = new String[3];\n",
    "double[] doubleArray = new double[3];\n",
    "boolean[] booleanArray = new boolean[3];\n",
    "\n",
    "System.out.println(\"Int array: \"+ intArray[1]);\n",
    "System.out.println(\"String array: \"+stringArray[1]);\n",
    "System.out.println(\"Double array: \"+doubleArray[1]);\n",
    "System.out.println(\"Boolean array: \"+booleanArray[1]);"
   ]
  },
  {
   "cell_type": "markdown",
   "metadata": {},
   "source": [
    "## Multiple Choice\n",
    "\n",
    "### Question 1\n",
    "Consider the following method which is intended to return the position of find within the String referenced at the third last index of arr.\n",
    "\n",
    "public static int findThirdLast(String [] arr, String find)\n",
    "{\n",
    "return /*missing code*/;\n",
    "}\n",
    "\n",
    "Which of the following could replace /*missing code*/ to complete the method as specified?\n",
    "\n",
    "A. arr[].indexOf(find)\n",
    "\n",
    "B. arr.indexOf(find)\n",
    "\n",
    "C. arr[arr.length].indexOf(find)\n",
    "\n",
    "D. arr[arr.length - 3].indexOf(find)\n",
    "\n",
    "E. arr[arr.length - 2].indexOf(find)\n",
    "\n",
    "**Answer: D**\n",
    "\n",
    "### Question 2\n",
    "Consider the following method:\n",
    "\n",
    "public static int mystery(int [] arr)\n",
    "{\n",
    "return arr[1] + arr[4]/2\n",
    "}\n",
    "\n",
    "The mystery method is called from another method in the same class: int[] list = {1,9,2,5,6};\n",
    "int result = mystery(list);\n",
    "\n",
    "What is stored in result after executing the above code?\n",
    "\n",
    "A. 2\n",
    "\n",
    "B. 12\n",
    "\n",
    "C. 15\n",
    "\n",
    "D. 9\n",
    "\n",
    "E. 8\n",
    "\n",
    "**Answer: B** \n",
    "result = 9 + 6/2 = 12"
   ]
  },
  {
   "cell_type": "markdown",
   "metadata": {},
   "source": [
    "# 6.2"
   ]
  },
  {
   "cell_type": "markdown",
   "metadata": {},
   "source": [
    "## Popcorn Hack 1"
   ]
  },
  {
   "cell_type": "code",
   "execution_count": 33,
   "metadata": {
    "vscode": {
     "languageId": "java"
    }
   },
   "outputs": [
    {
     "name": "stdout",
     "output_type": "stream",
     "text": [
      "6\n"
     ]
    }
   ],
   "source": [
    "public static int sumOfEvenNumbers(int[] arr) {\n",
    "    int sum = 0;\n",
    "    for (int index=0; index < arr.length; index++){\n",
    "        if (arr[index] % 2 == 0){\n",
    "            sum += arr[index];\n",
    "        }\n",
    "    }\n",
    "    return sum;\n",
    "}\n",
    "\n",
    "int[] arr = {1,2,3,4,5};\n",
    "System.out.println(sumOfEvenNumbers(arr));"
   ]
  },
  {
   "cell_type": "markdown",
   "metadata": {},
   "source": [
    "## Popcorn Hack 2"
   ]
  },
  {
   "cell_type": "code",
   "execution_count": 35,
   "metadata": {
    "vscode": {
     "languageId": "java"
    }
   },
   "outputs": [
    {
     "name": "stdout",
     "output_type": "stream",
     "text": [
      "3\n"
     ]
    }
   ],
   "source": [
    "public static int countOccurrences(int[] arr, int target) {\n",
    "    \n",
    "    int count = 0;\n",
    "\n",
    "    for (int i = 0; i < arr.length; i++)\n",
    "    {\n",
    "        if (arr[i] == 3)\n",
    "        {\n",
    "            count++;\n",
    "        }\n",
    "    }\n",
    "    return count;\n",
    "}\n",
    "\n",
    "// Example usage:\n",
    "int[] arr = {3, 5, 3, 3, 7, 5};\n",
    "int target = 3;\n",
    "System.out.println(countOccurrences(arr, target)); // Output: 3"
   ]
  },
  {
   "cell_type": "markdown",
   "metadata": {},
   "source": [
    "## Popcorn Hack 3"
   ]
  },
  {
   "cell_type": "code",
   "execution_count": 39,
   "metadata": {
    "vscode": {
     "languageId": "java"
    }
   },
   "outputs": [
    {
     "name": "stdout",
     "output_type": "stream",
     "text": [
      "2\n"
     ]
    }
   ],
   "source": [
    "public static int firstNegativeIndex(int[] arr) {\n",
    "\n",
    "    for (int i = 0; i<arr.length; i++){\n",
    "        if (arr[i] < 0){\n",
    "            return i;\n",
    "        }\n",
    "    }\n",
    "\n",
    "    return -1;\n",
    "\n",
    "}\n",
    "\n",
    "// Example usage:\n",
    "int[] arr = {4, 7, -2, 5};\n",
    "System.out.println(firstNegativeIndex(arr)); // Output: 2"
   ]
  },
  {
   "cell_type": "markdown",
   "metadata": {},
   "source": [
    "## Multiple Choice\n",
    "\n",
    "Multiple Choice Question 1\n",
    "Consider the following code:"
   ]
  },
  {
   "cell_type": "markdown",
   "metadata": {
    "vscode": {
     "languageId": "java"
    }
   },
   "source": [
    "String[] list = {\"red\", \"yellow\", \"blue\"};\n",
    "\n",
    "for (int i = 0; i < list.length; i++) {\n",
    "\n",
    "    System.out.print(list[i].length() + \"_\");\n",
    "    \n",
    "}\n"
   ]
  },
  {
   "cell_type": "markdown",
   "metadata": {},
   "source": [
    "What is displayed after the code is executed?\n",
    "\n",
    "A. red_yellow_blue\n",
    "\n",
    "B. 3_3_3_\n",
    "\n",
    "C. 3_6_4_\n",
    "\n",
    "D. 3_3_\n",
    "\n",
    "E. 3_6_\n",
    "\n",
    "**Answer: C** prints lengths of words"
   ]
  },
  {
   "cell_type": "markdown",
   "metadata": {},
   "source": [
    "### Question 2\n",
    "\n",
    "Consider the following code segment which is intended to display every other element in `numbers`, beginning with the first element:\n",
    "int[] numbers = {13, 33, 3, -3, -333};\n",
    "\n",
    "for (/*missing*/) {\n",
    "\n",
    "    System.out.print(numbers[i]);\n",
    "\n",
    "}\n",
    "\n",
    "Which of the following could replace /*missing code*/ to make the code work as intended?\n",
    "\n",
    "(A) int i = 0; i < numbers. length 12; it+\n",
    "\n",
    "(B) int i = 1; i ‹ numbers. length; i++\n",
    "\n",
    "(C) int i = 1; i < numbers.length; i+=2\n",
    "\n",
    "(D) int i = 0; i ‹ numbers.length; i++\n",
    "\n",
    "(E) int i = 0; i < numbers.length; i+=2\n",
    "\n",
    "**Answer E**"
   ]
  },
  {
   "cell_type": "markdown",
   "metadata": {},
   "source": [
    "### Multiple Choice 3\n",
    "\n",
    "Consider the method which is intended to reverse the order of the elements in `arr`.\n",
    "\n",
    "\n",
    "public static void reverseArray (double [] arr) \n",
    "\n",
    "{\n",
    "\n",
    "    for (int i = 0; i < arr.length; i++) {\n",
    "\n",
    "        double temp = arr [i];\n",
    "\n",
    "        arr[i] = arr[arr.length-1-i];\n",
    "\n",
    "        arr[arr.length-1-i] = temp;\n",
    "    \n",
    "    }\n",
    "    \n",
    "}\n",
    "Which of the following would fix the method so it works as intended?\n",
    "\n",
    "(A) Change the loop condition to:\n",
    "\n",
    "i < arr. length - 1\n",
    "\n",
    "\n",
    "(B) Change the loop condition to:\n",
    "\n",
    "i < arr.length/2\n",
    "\n",
    "(C) Change the loop condition to:\n",
    "\n",
    "i < arr.length/2 - 1\n",
    "\n",
    "(D) Change lines 6 and 7 to:\n",
    "\n",
    "arr[1] = arr[arr.length-1];\n",
    "\n",
    "arr [arr.length-i] = temp;\n",
    "\n",
    "(E) Change the loop body to:\n",
    "\n",
    "arr[1] = arr[arr.length-1-1];\n",
    "\n",
    "arr [arr.length-1-1] = arr[i];\n",
    "\n",
    "**Answer B**"
   ]
  },
  {
   "cell_type": "markdown",
   "metadata": {},
   "source": [
    "## Homework Hack"
   ]
  },
  {
   "cell_type": "code",
   "execution_count": 51,
   "metadata": {
    "vscode": {
     "languageId": "java"
    }
   },
   "outputs": [
    {
     "name": "stdout",
     "output_type": "stream",
     "text": [
      "6\n",
      "-1\n"
     ]
    }
   ],
   "source": [
    "public static int findSecondLargest(int[] arr) {\n",
    "    int largest = 0;\n",
    "    int second = 0;\n",
    "    if (arr.length < 2){\n",
    "        return -1;\n",
    "    }\n",
    "    else{\n",
    "\n",
    "        for (int i = 0; i < arr.length; i++){\n",
    "            if (i==0){\n",
    "                largest = arr[i]; \n",
    "                second = arr[i];\n",
    "            }\n",
    "            if (arr[i] > largest){\n",
    "                second = largest;\n",
    "                largest = arr[i];\n",
    "            }\n",
    "            else if ((arr[i] != largest) && (arr[i] > second)){\n",
    "                second = arr[i];\n",
    "            }\n",
    "\n",
    "        }\n",
    "        if (second == largest){\n",
    "            return -1;\n",
    "        }\n",
    "        else{\n",
    "            return second;\n",
    "        }\n",
    "\n",
    "\n",
    "    }\n",
    "}\n",
    "\n",
    "int[] arr1 = {3, 1, 4, 1, 5, 9, 2, 6};\n",
    "System.out.println(findSecondLargest(arr1)); // Output: 6\n",
    "\n",
    "int[] arr2 = {10, 10, 10, 10};\n",
    "System.out.println(findSecondLargest(arr2)); // Output: -1\n"
   ]
  },
  {
   "cell_type": "markdown",
   "metadata": {
    "vscode": {
     "languageId": "java"
    }
   },
   "source": [
    "# 6.3"
   ]
  },
  {
   "cell_type": "markdown",
   "metadata": {
    "vscode": {
     "languageId": "java"
    }
   },
   "source": [
    "## Popcorn Hack 1"
   ]
  },
  {
   "cell_type": "code",
   "execution_count": 56,
   "metadata": {
    "vscode": {
     "languageId": "java"
    }
   },
   "outputs": [
    {
     "name": "stdout",
     "output_type": "stream",
     "text": [
      "Java\n",
      "Python\n",
      "Markdown\n",
      "C++\n",
      "Go\n",
      "JavaScript\n",
      "HTML\n"
     ]
    }
   ],
   "source": [
    "\n",
    "//regular for loop\n",
    "// String[] languages = {\"Java\", \"Python\", \"Markdown\", \"C++\", \"Go\", \"JavaScript\", \"HTML\"};\n",
    "\n",
    "// for (int i = 0; i<languages.length; i++) {\n",
    "//     System.out.println(languages[i]);\n",
    "// };\n",
    "\n",
    "\n",
    "//enhanced for loop\n",
    "String[] languages = {\"Java\", \"Python\", \"Markdown\", \"C++\", \"Go\", \"JavaScript\", \"HTML\"};\n",
    "//changed for condition to just take iterable array and what to itterate with\n",
    "for  (String language : languages) {\n",
    "    System.out.println(language);\n",
    "};"
   ]
  },
  {
   "cell_type": "markdown",
   "metadata": {},
   "source": [
    "## Hacks"
   ]
  },
  {
   "cell_type": "code",
   "execution_count": 61,
   "metadata": {
    "vscode": {
     "languageId": "java"
    }
   },
   "outputs": [
    {
     "name": "stdout",
     "output_type": "stream",
     "text": [
      "cat\n",
      "dog\n",
      "horse\n"
     ]
    }
   ],
   "source": [
    "String[] myArray = {\"cat\", \"dog\", \"horse\"};\n",
    "\n",
    "// Add a loop to go through the array here\n",
    "for (String animal : myArray){\n",
    "    System.out.println(animal);\n",
    "}\n",
    "\n"
   ]
  },
  {
   "cell_type": "markdown",
   "metadata": {},
   "source": [
    "## Multiple Choice"
   ]
  },
  {
   "cell_type": "code",
   "execution_count": 62,
   "metadata": {
    "vscode": {
     "languageId": "java"
    }
   },
   "outputs": [
    {
     "name": "stdout",
     "output_type": "stream",
     "text": [
      "3\n",
      "5\n",
      "6\n",
      "3\n",
      "10\n"
     ]
    }
   ],
   "source": [
    "private String[] myArray = {\n",
    "    \"And\", \"Table\", \"Shirts\", \"Tea\", \"School Day\"\n",
    "};\n",
    "\n",
    "for (String currentWord : myArray) {\n",
    "    // Add code here\n",
    "    System.out.println(currentWord.length());\n",
    "}\n",
    "\n",
    "// A: System.out.println(myArray.currentWord.length());\n",
    "// B: System.out.println(myArray[index].length());\n",
    "// C: System.out.println(myArray[currentWord].length());\n",
    "// D: System.out.println(currentWord.length());\n",
    "\n",
    "//Option D is correct"
   ]
  },
  {
   "cell_type": "code",
   "execution_count": 70,
   "metadata": {
    "vscode": {
     "languageId": "java"
    }
   },
   "outputs": [
    {
     "name": "stdout",
     "output_type": "stream",
     "text": [
      "Apple\n",
      "A at 0\n",
      "Banana\n",
      "a at 1\n",
      "a at 3\n",
      "a at 5\n",
      "Orange\n",
      "a at 2\n"
     ]
    }
   ],
   "source": [
    "String[] fruits = {\"Apple\", \"Banana\", \"Orange\"};\n",
    "\n",
    "for (String fruit: fruits) {\n",
    "    System.out.println(fruit);\n",
    "    // Find the index of the letter 'a' in each fruit\n",
    "    for (int i = 0; i < fruit.length(); i++) {\n",
    "        char letter = fruit.charAt(i);\n",
    "        if (letter == 'A' || letter == 'a') {\n",
    "            System.out.println(letter + \" at \"+i);\n",
    "        }\n",
    "    }\n",
    "    }"
   ]
  },
  {
   "cell_type": "code",
   "execution_count": 77,
   "metadata": {
    "vscode": {
     "languageId": "java"
    }
   },
   "outputs": [
    {
     "name": "stdout",
     "output_type": "stream",
     "text": [
      "Object 1\n",
      "Object 2\n",
      "Object 3\n",
      "Object 4\n",
      "Object 5\n"
     ]
    }
   ],
   "source": [
    "String[] myArray = {\"Object 1\", \"Object 2\", \"Object 3\", \"Object 4\", \"Object 5\"};\n",
    "\n",
    "for (currentWord: myArray) {\n",
    "    System.out.(currentWord)\n",
    "};\n",
    "\n",
    "// There are 3 errors, can you find them?\n",
    "\n",
    "// 1. no type for currentWord\n",
    "//2. no semicolon on System.out line\n",
    "// 3. should be System.out.println()\n"
   ]
  },
  {
   "cell_type": "markdown",
   "metadata": {},
   "source": [
    "## Final Hack"
   ]
  },
  {
   "cell_type": "code",
   "execution_count": 82,
   "metadata": {
    "vscode": {
     "languageId": "java"
    }
   },
   "outputs": [
    {
     "name": "stdout",
     "output_type": "stream",
     "text": [
      "Enter a grade: [88, 93, 55, 68, 77, 100]\n",
      "80.16666666666667\n"
     ]
    }
   ],
   "source": [
    "Integer[] grades = {88, 93, 55, 68, 77};\n",
    "double sum = 0;\n",
    "Scanner userGrades = new Scanner(System.in);\n",
    "System.out.print(\"Enter a grade: \");\n",
    "int grade = Integer.parseInt(userGrades.nextLine());\n",
    "\n",
    "grades = Arrays.copyOf(grades, grades.length + 1);\n",
    "grades[grades.length - 1] = grade;\n",
    "System.out.println(Arrays.toString(grades));\n",
    "\n",
    "for (int grade: grades){\n",
    "    sum += grade;\n",
    "}\n",
    "double mean = sum / grades.length;\n",
    "\n",
    "System.out.println(mean)"
   ]
  },
  {
   "cell_type": "markdown",
   "metadata": {},
   "source": [
    "# 6.4"
   ]
  },
  {
   "cell_type": "markdown",
   "metadata": {},
   "source": [
    "## Popcorn Hack 1"
   ]
  },
  {
   "cell_type": "code",
   "execution_count": 83,
   "metadata": {
    "vscode": {
     "languageId": "java"
    }
   },
   "outputs": [
    {
     "name": "stdout",
     "output_type": "stream",
     "text": [
      "INCREASING\n",
      "INCREASING\n",
      "DECREASING\n",
      "INCREASING\n",
      "DECREASING\n",
      "INCREASING\n",
      "INCREASING\n",
      "INCREASING\n"
     ]
    }
   ],
   "source": [
    "public class MaxMinInArray {\n",
    "\n",
    "    public static void YAP(int[] array) {\n",
    "       \n",
    "        if (array == null || array.length == 0) {\n",
    "            System.out.println(\"Array is empty\");\n",
    "            return;\n",
    "        }\n",
    "\n",
    "        \n",
    "        for (int i = 1; i < array.length; i++) {\n",
    "            \n",
    "            if (array[i] > array[i-1]) {\n",
    "                System.out.println(\"INCREASING\");  \n",
    "            }\n",
    "            if (array[i] < array[i-1]) {\n",
    "                System.out.println(\"DECREASING\");    \n",
    "            }\n",
    "        }\n",
    "\n",
    "\n",
    "    }\n",
    "\n",
    "    public static void main(String[] args) {\n",
    "     \n",
    "        int[] array = {3, 5, 7, 2, 8, -1, 4, 10, 12};\n",
    "\n",
    "        \n",
    "        YAP(array);\n",
    "    }\n",
    "}\n",
    "MaxMinInArray.main(null)\n"
   ]
  },
  {
   "cell_type": "markdown",
   "metadata": {},
   "source": [
    "## HW Hack 1"
   ]
  },
  {
   "cell_type": "code",
   "execution_count": 84,
   "metadata": {
    "vscode": {
     "languageId": "java"
    }
   },
   "outputs": [
    {
     "name": "stdout",
     "output_type": "stream",
     "text": [
      "5\n",
      "4\n",
      "3\n",
      "2\n",
      "1\n",
      "0\n"
     ]
    }
   ],
   "source": [
    "Integer[] myArray = {0, 1, 2, 3, 4, 5};\n",
    "\n",
    "for (int i = myArray.length-1; i >= 0; i--) {\n",
    "    //Add code \n",
    "    System.out.println(myArray[i]);\n",
    "};"
   ]
  },
  {
   "cell_type": "markdown",
   "metadata": {},
   "source": [
    "## HW Hack 2"
   ]
  },
  {
   "cell_type": "code",
   "execution_count": 112,
   "metadata": {
    "vscode": {
     "languageId": "java"
    }
   },
   "outputs": [
    {
     "name": "stdout",
     "output_type": "stream",
     "text": [
      "[alpha, gamma, beta, delta]\n"
     ]
    }
   ],
   "source": [
    "public class WordShifter {  \n",
    "    public static void main(String[] args) {\n",
    "        String [] copy = {\"a\", \"b\", \"g\", \"d\"};\n",
    "        String[] words = {\"alpha\", \"beta\", \"gamma\", \"delta\"};\n",
    "        int shiftWord = 0;\n",
    "        for (int count = 0; count < shiftWord; count++) {\n",
    "            String temp = words[0];\n",
    "            for (int index = 0; index < words.length - 1; index++) {\n",
    "                words[index] = words[index + 1];\n",
    "            }\n",
    "            words[words.length - 1] = temp;\n",
    "        }\n",
    "        for (int i =0; i < words.length; i+=2) {\n",
    "            copy[i/2] = words[i];\n",
    "        }\n",
    "        for (int i = 1; i < words.length; i+=2) {\n",
    "            int index = (int) Math.round((i / 2.0)+1.0);\n",
    "            copy[index] = words[i];\n",
    "        }\n",
    "\n",
    "        System.out.println(Arrays.toString(copy));\n",
    "    }\n",
    "}\n",
    "WordShifter.main(null)"
   ]
  },
  {
   "cell_type": "code",
   "execution_count": null,
   "metadata": {
    "vscode": {
     "languageId": "java"
    }
   },
   "outputs": [],
   "source": []
  }
 ],
 "metadata": {
  "kernelspec": {
   "display_name": "Java",
   "language": "java",
   "name": "java"
  },
  "language_info": {
   "codemirror_mode": "java",
   "file_extension": ".jshell",
   "mimetype": "text/x-java-source",
   "name": "Java",
   "pygments_lexer": "java",
   "version": "11.0.24+8-post-Ubuntu-1ubuntu322.04"
  }
 },
 "nbformat": 4,
 "nbformat_minor": 2
}
